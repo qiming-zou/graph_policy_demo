{
 "cells": [
  {
   "cell_type": "code",
   "execution_count": 1,
   "id": "8207e451",
   "metadata": {},
   "outputs": [],
   "source": [
    "from save_graph import pickle_load\n",
    "from env import make_fn\n",
    "import numpy as np\n",
    "from collections import defaultdict\n",
    "from tqdm import tqdm"
   ]
  },
  {
   "cell_type": "code",
   "execution_count": 2,
   "id": "f82f047e",
   "metadata": {},
   "outputs": [],
   "source": [
    "graph = pickle_load(path=\"ai2thor_obj_search/graph.pkl\")\n",
    "goal_id_to_goal = graph[\"goal_id_to_goal\"]\n",
    "state_id_to_state = graph[\"state_id_to_state\"]\n",
    "state_id_to_achieved_goal_id = graph[\"state_id_to_achieved_goal_id\"]"
   ]
  },
  {
   "cell_type": "code",
   "execution_count": 3,
   "id": "38ffd242",
   "metadata": {},
   "outputs": [],
   "source": [
    "env = make_fn(env_name=\"ai2thor_obj_search\", mode=\"train\")"
   ]
  },
  {
   "cell_type": "code",
   "execution_count": 4,
   "id": "af3da2c2",
   "metadata": {},
   "outputs": [
    {
     "name": "stderr",
     "output_type": "stream",
     "text": [
      "count 0:   0%|                                          | 0/273 [00:00<?, ?it/s]/home/zou/anaconda3/envs/py310/lib/python3.10/site-packages/gym/utils/seeding.py:47: DeprecationWarning: \u001b[33mWARN: Function `rng.randint(low, [high, size, dtype])` is marked as deprecated and will be removed in the future. Please use `rng.integers(low, [high, size, dtype])` instead.\u001b[0m\n",
      "  deprecation(\n",
      "count 0:   0%|                                  | 1/273 [00:00<01:23,  3.26it/s]\n"
     ]
    },
    {
     "ename": "AssertionError",
     "evalue": "",
     "output_type": "error",
     "traceback": [
      "\u001b[0;31m---------------------------------------------------------------------------\u001b[0m",
      "\u001b[0;31mAssertionError\u001b[0m                            Traceback (most recent call last)",
      "Cell \u001b[0;32mIn[4], line 10\u001b[0m\n\u001b[1;32m      8\u001b[0m \u001b[38;5;28;01mwhile\u001b[39;00m count\u001b[38;5;241m<\u001b[39m\u001b[38;5;241m10\u001b[39m:\n\u001b[1;32m      9\u001b[0m     pbar\u001b[38;5;241m.\u001b[39mset_description(desc\u001b[38;5;241m=\u001b[39m\u001b[38;5;124mf\u001b[39m\u001b[38;5;124m\"\u001b[39m\u001b[38;5;124mcount \u001b[39m\u001b[38;5;132;01m{\u001b[39;00mcount\u001b[38;5;132;01m}\u001b[39;00m\u001b[38;5;124m\"\u001b[39m)\n\u001b[0;32m---> 10\u001b[0m     \u001b[43menv\u001b[49m\u001b[38;5;241;43m.\u001b[39;49m\u001b[43mreset\u001b[49m\u001b[43m(\u001b[49m\u001b[43mgoal_id\u001b[49m\u001b[38;5;241;43m=\u001b[39;49m\u001b[43mgoal_id\u001b[49m\u001b[43m)\u001b[49m\n\u001b[1;32m     11\u001b[0m     X, Y, AC_G_IDs \u001b[38;5;241m=\u001b[39m [], [], []\n\u001b[1;32m     12\u001b[0m     \u001b[38;5;28;01mfor\u001b[39;00m t \u001b[38;5;129;01min\u001b[39;00m \u001b[38;5;28mrange\u001b[39m(env\u001b[38;5;241m.\u001b[39mT):\n",
      "File \u001b[0;32m~/Desktop/graph_policy_demo/env.py:39\u001b[0m, in \u001b[0;36mEnv.reset\u001b[0;34m(self, goal_id)\u001b[0m\n\u001b[1;32m     37\u001b[0m             \u001b[38;5;28;01mif\u001b[39;00m \u001b[38;5;28mself\u001b[39m\u001b[38;5;241m.\u001b[39mgoal_id \u001b[38;5;129;01min\u001b[39;00m \u001b[38;5;28mself\u001b[39m\u001b[38;5;241m.\u001b[39mgraph\u001b[38;5;241m.\u001b[39mnodes[node][\u001b[38;5;124m\"\u001b[39m\u001b[38;5;124machieved_goal\u001b[39m\u001b[38;5;124m\"\u001b[39m][\u001b[38;5;28mself\u001b[39m\u001b[38;5;241m.\u001b[39mgraph_seed]:\n\u001b[1;32m     38\u001b[0m                 can_success \u001b[38;5;241m=\u001b[39m \u001b[38;5;28;01mTrue\u001b[39;00m\n\u001b[0;32m---> 39\u001b[0m     \u001b[38;5;28;01massert\u001b[39;00m can_success\n\u001b[1;32m     41\u001b[0m \u001b[38;5;28;01mreturn\u001b[39;00m {\u001b[38;5;124m\"\u001b[39m\u001b[38;5;124mstate_id\u001b[39m\u001b[38;5;124m\"\u001b[39m: \u001b[38;5;28mself\u001b[39m\u001b[38;5;241m.\u001b[39mnode_t, \u001b[38;5;124m\"\u001b[39m\u001b[38;5;124mgoal_id\u001b[39m\u001b[38;5;124m\"\u001b[39m: \u001b[38;5;28mself\u001b[39m\u001b[38;5;241m.\u001b[39mgoal_id}\n",
      "\u001b[0;31mAssertionError\u001b[0m: "
     ]
    }
   ],
   "source": [
    "goal_id_to_graph_seed_and_frequency = defaultdict(dict)\n",
    "datasetX = []\n",
    "datasetY = []\n",
    "G_traj_count = {g_id:0 for g_id in goal_id_to_goal.id_set}\n",
    "pbar = tqdm(goal_id_to_goal.id_set, desc=\"\", position=0, leave=True)\n",
    "for goal_id in pbar:\n",
    "    count = 0\n",
    "    while count<10:\n",
    "        pbar.set_description(desc=f\"count {count}\")\n",
    "        env.reset(goal_id=goal_id)\n",
    "        X, Y, AC_G_IDs = [], [], []\n",
    "        for t in range(env.T):\n",
    "            act = env.action_space.sample()\n",
    "            state, reward, done, _ = env.step(act_id=act)\n",
    "            state_id = state[\"state_id\"]\n",
    "            goal_id = state[\"goal_id\"]\n",
    "\n",
    "            pose = state_id_to_state(state_id)\n",
    "            goal_vec = goal_id_to_goal.id_to_vec_info_lst[goal_id]\n",
    "            x = pose.tolist()+goal_vec.tolist()\n",
    "            y = reward\n",
    "            X.append(x)\n",
    "            Y.append(y)\n",
    "        if np.sum(Y)>0:\n",
    "            datasetX.append(x)\n",
    "            datasetY.append(y)\n",
    "            count += 1\n",
    "        \n",
    "        \n",
    "        \n",
    "#         X.append(pose)\n",
    "        \n",
    "#         if env.graph_seed in env.graph.nodes[env.node_t][\"achieved_goal\"].keys():\n",
    "#             achieved_goal_ids = env.graph.nodes[env.node_t][\"achieved_goal\"][env.graph_seed]\n",
    "#             AC_G_IDs.append(achieved_goal_ids)\n",
    "    \n",
    "#     for g_id in goal_id_to_goal.id_set:\n",
    "#         Y = []\n",
    "#         for t, ac_g_ids in enumerate(AC_G_IDs):\n",
    "#             if g_id in ac_g_ids:\n",
    "#                 Y.append(1)\n",
    "#             else:\n",
    "#                 Y.append(0)\n",
    "#         if np.sum(Y)>0:\n",
    "#             X_new = [x.tolist()+goal_id_to_goal.id_to_vec_info_lst[g_id].tolist() for x in X]\n",
    "#             datasetX.append(X_new)\n",
    "#             datasetY.append(Y)\n",
    "#             G_traj_count[g_id]+=1\n",
    "# print(G_traj_count)\n",
    "        \n",
    "            \n"
   ]
  },
  {
   "cell_type": "code",
   "execution_count": null,
   "id": "e9c48bdf",
   "metadata": {},
   "outputs": [],
   "source": [
    "from pprint import pprint\n",
    "pprint(goal_id_to_graph_seed_and_frequency.keys())"
   ]
  },
  {
   "cell_type": "code",
   "execution_count": null,
   "id": "675d26a5",
   "metadata": {},
   "outputs": [],
   "source": []
  }
 ],
 "metadata": {
  "kernelspec": {
   "display_name": "py310",
   "language": "python",
   "name": "py310"
  },
  "language_info": {
   "codemirror_mode": {
    "name": "ipython",
    "version": 3
   },
   "file_extension": ".py",
   "mimetype": "text/x-python",
   "name": "python",
   "nbconvert_exporter": "python",
   "pygments_lexer": "ipython3",
   "version": "3.10.9"
  }
 },
 "nbformat": 4,
 "nbformat_minor": 5
}
